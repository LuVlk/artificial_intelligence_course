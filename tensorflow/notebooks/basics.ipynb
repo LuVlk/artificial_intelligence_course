{
 "metadata": {
  "language_info": {
   "codemirror_mode": {
    "name": "ipython",
    "version": 3
   },
   "file_extension": ".py",
   "mimetype": "text/x-python",
   "name": "python",
   "nbconvert_exporter": "python",
   "pygments_lexer": "ipython3",
   "version": "3.8.2-final"
  },
  "orig_nbformat": 2,
  "kernelspec": {
   "name": "python3",
   "display_name": "Python 3",
   "language": "python"
  }
 },
 "nbformat": 4,
 "nbformat_minor": 2,
 "cells": [
  {
   "source": [
    "# Basics of TensorFlow"
   ],
   "cell_type": "markdown",
   "metadata": {}
  },
  {
   "cell_type": "code",
   "execution_count": 2,
   "metadata": {},
   "outputs": [
    {
     "output_type": "stream",
     "name": "stdout",
     "text": [
      "<module 'tensorflow._api.v2.version' from 'C:\\\\Users\\\\Lukas\\\\AppData\\\\Local\\\\Programs\\\\Python\\\\Python38\\\\lib\\\\site-packages\\\\tensorflow\\\\_api\\\\v2\\\\version\\\\__init__.py'>\n"
     ]
    }
   ],
   "source": [
    "import tensorflow as tf\n",
    "print(tf.version)"
   ]
  },
  {
   "source": [
    "### creating variables:"
   ],
   "cell_type": "markdown",
   "metadata": {}
  },
  {
   "cell_type": "code",
   "execution_count": null,
   "metadata": {},
   "outputs": [],
   "source": [
    "string = tf.Variable(\"this is a string\", tf.string)\n",
    "number = tf.Variable(324, tf.int16)\n",
    "floating = tf.Variable(3.567, tf.float64)"
   ]
  },
  {
   "source": [
    "note: all other objects specified by tensorflow are immutable!\n",
    "\n",
    "to be more specific:\n",
    "- Constant\n",
    "- Placeholder\n",
    "- SparseTensor\n",
    "\n",
    "are immutable"
   ],
   "cell_type": "markdown",
   "metadata": {}
  },
  {
   "source": [
    "### creating vectors and matrizes (Tensors):"
   ],
   "cell_type": "markdown",
   "metadata": {}
  },
  {
   "cell_type": "code",
   "execution_count": 21,
   "metadata": {},
   "outputs": [
    {
     "output_type": "stream",
     "name": "stdout",
     "text": [
      "<class 'tensorflow.python.ops.resource_variable_ops.ResourceVariable'>\n\n<tf.Variable 'Variable:0' shape=(3, 2) dtype=string, numpy=\narray([[b'test', b'Ok'],\n       [b'test', b'yes'],\n       [b'tesnor', b'flow']], dtype=object)>\n"
     ]
    }
   ],
   "source": [
    "rank1_tensor = tf.Variable([\"test\", \"Ok\"], tf.string)\n",
    "rank2_tensor = tf.Variable([rank1_tensor,[\"test\", \"yes\"], [\"tesnor\", \"flow\"]], tf.string)\n",
    "print(str(type(rank2_tensor)) + \"\\n\")\n",
    "print(rank2_tensor)"
   ]
  },
  {
   "source": [
    "determining the rank of a tensor:"
   ],
   "cell_type": "markdown",
   "metadata": {}
  },
  {
   "cell_type": "code",
   "execution_count": 12,
   "metadata": {},
   "outputs": [
    {
     "output_type": "stream",
     "name": "stdout",
     "text": [
      "tf.Tensor(2, shape=(), dtype=int32)\n"
     ]
    },
    {
     "output_type": "execute_result",
     "data": {
      "text/plain": [
       "tensorflow.python.framework.ops.EagerTensor"
      ]
     },
     "metadata": {},
     "execution_count": 12
    }
   ],
   "source": [
    "rank = tf.rank(rank2_tensor)\n",
    "print(rank)\n",
    "type(rank)"
   ]
  },
  {
   "source": [
    "shape of a tensor:"
   ],
   "cell_type": "markdown",
   "metadata": {}
  },
  {
   "cell_type": "code",
   "execution_count": 13,
   "metadata": {},
   "outputs": [
    {
     "output_type": "stream",
     "name": "stdout",
     "text": [
      "(2,)\n(3, 2)\n"
     ]
    }
   ],
   "source": [
    "print(rank1_tensor.shape)\n",
    "print(rank2_tensor.shape)"
   ]
  },
  {
   "source": [
    "reshaping tensors:"
   ],
   "cell_type": "markdown",
   "metadata": {}
  },
  {
   "cell_type": "code",
   "execution_count": 23,
   "metadata": {},
   "outputs": [
    {
     "output_type": "stream",
     "name": "stdout",
     "text": [
      "tf.Tensor([[b'test' b'Ok' b'test' b'yes' b'tesnor' b'flow']], shape=(1, 6), dtype=string)\n"
     ]
    }
   ],
   "source": [
    "new_tensor = tf.reshape(rank2_tensor, [-1, 6]) # -1 tells tensorflow to calculate the size of the elements in that place\n",
    "print(new_tensor)"
   ]
  },
  {
   "cell_type": "code",
   "execution_count": 29,
   "metadata": {},
   "outputs": [
    {
     "output_type": "stream",
     "name": "stdout",
     "text": [
      "tf.Tensor(\n[[[1. 1. 1.]\n  [1. 1. 1.]]], shape=(1, 2, 3), dtype=float32)\ntf.Tensor(\n[[1. 1. 1.]\n [1. 1. 1.]], shape=(2, 3), dtype=float32)\ntf.Tensor(\n[[[[1. 1. 1.]]]\n\n\n [[[1. 1. 1.]]]], shape=(2, 1, 1, 3), dtype=float32)\n"
     ]
    }
   ],
   "source": [
    "tensor1 = tf.ones([1, 2, 3]) # creating a tensor of only 1s\n",
    "tensor2 = tf.reshape(tensor1, [2, -1]) # reducing dimensions and calculating remains\n",
    "tensor3 = tf.reshape(tensor1, [2, 1, 1, 3]) # increasing dimensions\n",
    "\n",
    "print(tensor1)\n",
    "print(tensor2)\n",
    "print(tensor3)"
   ]
  },
  {
   "source": [
    "### creating and using Sessions:"
   ],
   "cell_type": "markdown",
   "metadata": {}
  },
  {
   "cell_type": "code",
   "execution_count": 36,
   "metadata": {},
   "outputs": [],
   "source": [
    "tf.compat.v1.disable_eager_execution()\n",
    "tensor1 = tf.ones([1, 2, 3])\n",
    "\n",
    "with tf.compat.v1.Session() as sess:\n",
    "    tensor1.eval()\n",
    "\n",
    "# note that Sessions have been remove in tensorflow 2.0. So usage is outdated"
   ]
  }
 ]
}